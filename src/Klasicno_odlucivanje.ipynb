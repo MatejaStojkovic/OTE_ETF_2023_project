{
 "cells": [
  {
   "cell_type": "code",
   "execution_count": 1,
   "metadata": {},
   "outputs": [],
   "source": [
    "import scipy.io\n",
    "import numpy as np\n",
    "import matplotlib.pyplot as plt"
   ]
  },
  {
   "cell_type": "code",
   "execution_count": 2,
   "metadata": {},
   "outputs": [],
   "source": [
    "file_path = \"../data/Data_Klasicno_odlucivanje.mat\"\n",
    "mat = scipy.io.loadmat(file_path)"
   ]
  },
  {
   "cell_type": "code",
   "execution_count": 5,
   "metadata": {},
   "outputs": [
    {
     "name": "stdout",
     "output_type": "stream",
     "text": [
      "(8, 65538)\n"
     ]
    }
   ],
   "source": [
    "Detektovani_Simboli_na_prijemu_fazni_offset_uzorak = mat[\"Detektovani_Simboli_na_prijemu_fazni_offset_uzorak\"]\n",
    "Detektovani_Simboli_na_prijemu_multipath_uzorak = mat[\"Detektovani_Simboli_na_prijemu_multipath_uzorak\"]\n",
    "Detektovani_Simboli_na_prijemu_uzorak = mat[\"Detektovani_Simboli_na_prijemu_uzorak\"]\n",
    "\n",
    "print(Detektovani_Simboli_na_prijemu_fazni_offset_uzorak.shape)"
   ]
  }
 ],
 "metadata": {
  "kernelspec": {
   "display_name": "Python 3",
   "language": "python",
   "name": "python3"
  },
  "language_info": {
   "codemirror_mode": {
    "name": "ipython",
    "version": 3
   },
   "file_extension": ".py",
   "mimetype": "text/x-python",
   "name": "python",
   "nbconvert_exporter": "python",
   "pygments_lexer": "ipython3",
   "version": "3.11.3"
  },
  "orig_nbformat": 4
 },
 "nbformat": 4,
 "nbformat_minor": 2
}
