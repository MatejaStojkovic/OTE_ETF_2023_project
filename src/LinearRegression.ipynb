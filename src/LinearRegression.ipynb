{
 "cells": [
  {
   "cell_type": "code",
   "execution_count": 1,
   "metadata": {},
   "outputs": [],
   "source": [
    "import torch\n",
    "import torch.nn as nn\n",
    "import torch.optim as optim"
   ]
  },
  {
   "cell_type": "code",
   "execution_count": 12,
   "metadata": {},
   "outputs": [
    {
     "name": "stdout",
     "output_type": "stream",
     "text": [
      "(3, 8, 20000) (8, 20000)\n",
      "(3, 8, 25000) (8, 25000)\n",
      "(160000, 6) (160000,)\n",
      "(200000, 6) (200000,)\n",
      "[ 0.70710678+0.70710678j -0.70710678-0.70710678j -0.70710678+0.70710678j\n",
      " ... -0.70710678+0.70710678j  0.70710678-0.70710678j\n",
      "  0.70710678-0.70710678j]\n"
     ]
    }
   ],
   "source": [
    "from DataParser import DataParser\n",
    "import numpy as np\n",
    "dataSet = DataParser(\"../data/DataForML.mat\")\n",
    "x_train, y_train = dataSet.get_train_multipath(True)\n",
    "x_test, y_test = dataSet.get_test_multipath(True)\n",
    "print(x_train.shape, y_train.shape)\n",
    "print(x_test.shape, y_test.shape)\n",
    "\n",
    "def flatten_data(x, y):\n",
    "    x = np.reshape(x, (3, -1))\n",
    "    x = np.stack([np.real(x), np.imag(x)], axis=0)\n",
    "    x = np.reshape(x, (6, -1))\n",
    "    x = np.transpose(x)\n",
    "    y = np.reshape(y, (-1))\n",
    "    return x, y\n",
    "\n",
    "x_train,y_train = flatten_data(x_train, y_train)\n",
    "x_test, y_test = flatten_data(x_test, y_test)\n",
    "print(x_train.shape, y_train.shape)\n",
    "print(x_test.shape, y_test.shape)\n",
    "print(y_test)"
   ]
  },
  {
   "cell_type": "code",
   "execution_count": 3,
   "metadata": {},
   "outputs": [],
   "source": [
    "from sklearn.linear_model import LinearRegression"
   ]
  },
  {
   "cell_type": "code",
   "execution_count": 13,
   "metadata": {},
   "outputs": [],
   "source": [
    "reg_real = LinearRegression().fit(x_train, y_train.real)\n",
    "reg_imag = LinearRegression().fit(x_train, y_train.imag)"
   ]
  },
  {
   "cell_type": "code",
   "execution_count": 14,
   "metadata": {},
   "outputs": [
    {
     "name": "stdout",
     "output_type": "stream",
     "text": [
      "(200000,) (200000,)\n"
     ]
    }
   ],
   "source": [
    "# predict\n",
    "y_pred_real = reg_real.predict(x_test)\n",
    "y_pred_imag = reg_imag.predict(x_test)\n",
    "y_pred = y_pred_real + 1j * y_pred_imag\n",
    "\n",
    "def get_quadrant(x: np.ndarray):\n",
    "    x_real = x.real.copy()\n",
    "    x_imag = x.imag.copy()\n",
    "    x_real[x_real >= 0] = 1\n",
    "    x_real[x_real < 0] = -1\n",
    "    x_imag[x_imag >= 0] = 1\n",
    "    x_imag[x_imag < 0] = -1\n",
    "    # encode with quadrant number\n",
    "    x_real = x_real + 1\n",
    "    x_imag = x_imag + 1\n",
    "    x_real = x_real.astype(int)\n",
    "    x_imag = x_imag.astype(int)\n",
    "    return x_real * 3 + x_imag\n",
    "\n",
    "y_pred_quadrant = get_quadrant(y_pred)\n",
    "y_test_quadrant = get_quadrant(y_test)\n",
    "\n",
    "print(y_pred.shape, y_test.shape)\n"
   ]
  },
  {
   "cell_type": "code",
   "execution_count": 6,
   "metadata": {},
   "outputs": [
    {
     "name": "stdout",
     "output_type": "stream",
     "text": [
      "0.944755\n"
     ]
    }
   ],
   "source": [
    "# calculate accuracy\n",
    "def get_accuracy(y_pred, y_test):\n",
    "    return np.sum(y_pred == y_test) / len(y_test)\n",
    "\n",
    "print(get_accuracy(y_pred_quadrant, y_test_quadrant))"
   ]
  },
  {
   "cell_type": "code",
   "execution_count": 7,
   "metadata": {},
   "outputs": [],
   "source": [
    "from sklearn import svm;"
   ]
  },
  {
   "cell_type": "code",
   "execution_count": 8,
   "metadata": {},
   "outputs": [],
   "source": [
    "def train(train_data, train_labels):\n",
    "    train_data = train_data.flatten()\n",
    "    train_labels = train_labels.flatten()\n",
    "\n",
    "    train_data = np.stack([train_data.real, train_data.imag], axis=-1)\n",
    "\n",
    "    train_labels_real = train_labels.real > 0\n",
    "    train_labels_imag = train_labels.imag > 0\n",
    "    \n",
    "    #Create a svm Classifier\n",
    "    clf_real = svm.SVC(kernel='linear')\n",
    "    clf_imag = svm.SVC(kernel='linear') \n",
    "\n",
    "    #Train the model using the training sets\n",
    "    clf_real.fit(train_data, train_labels_real)\n",
    "    clf_imag.fit(train_data, train_labels_imag)\n",
    "\n",
    "    return (clf_real, clf_imag)\n",
    "def predict(test_data, labels_data, model):\n",
    "    clf_real = model[0]\n",
    "    clf_imag = model[1]\n",
    "    test_data = test_data.flatten()\n",
    "\n",
    "    test_data = np.stack([test_data.real, test_data.imag], axis=-1)\n",
    "\n",
    "    test_labels_real = labels_data.real > 0\n",
    "    test_labels_imag = labels_data.imag > 0\n",
    "\n",
    "    labels_pred_real = clf_real.predict(test_data)\n",
    "    labels_pred_imag = clf_imag.predict(test_data)\n",
    "\n",
    "    labels_pred = np.where(labels_pred_real & labels_pred_imag, 1, np.where(~labels_pred_real & labels_pred_imag, 2, np.where(~labels_pred_real & ~labels_pred_imag, 3,np.where(labels_pred_real & ~labels_pred_imag, 4, 0))))\n",
    "\n",
    "    test_labels = np.where(test_labels_real & test_labels_imag, 1,np.where(~test_labels_real & test_labels_imag, 2,np.where(~test_labels_real & ~test_labels_imag, 3,np.where(test_labels_real & ~test_labels_imag, 4, 0))))\n",
    "    labels_pred = labels_pred.reshape((8, 25000))\n",
    "    test_labels = test_labels.reshape((8, 25000))\n",
    "\n",
    "    return labels_pred, test_labels"
   ]
  },
  {
   "cell_type": "code",
   "execution_count": 15,
   "metadata": {},
   "outputs": [
    {
     "name": "stdout",
     "output_type": "stream",
     "text": [
      "[ 1.45475023+0.41785817j -1.18007838+0.02250308j -0.48256452+0.05962413j\n",
      " ... -0.6492475 +0.83429801j  0.47627417-0.98444107j\n",
      "  0.54925657-0.16463101j] [ 0.70710678+0.70710678j -0.70710678-0.70710678j -0.70710678+0.70710678j\n",
      " ... -0.70710678+0.70710678j  0.70710678-0.70710678j\n",
      "  0.70710678-0.70710678j]\n"
     ]
    }
   ],
   "source": [
    "print(y_pred, y_test)"
   ]
  },
  {
   "cell_type": "code",
   "execution_count": 16,
   "metadata": {},
   "outputs": [
    {
     "ename": "ValueError",
     "evalue": "Found input variables with inconsistent numbers of samples: [960000, 160000]",
     "output_type": "error",
     "traceback": [
      "\u001b[0;31m---------------------------------------------------------------------------\u001b[0m",
      "\u001b[0;31mValueError\u001b[0m                                Traceback (most recent call last)",
      "Cell \u001b[0;32mIn[16], line 1\u001b[0m\n\u001b[0;32m----> 1\u001b[0m model \u001b[39m=\u001b[39m train(x_train, y_train)\n\u001b[1;32m      2\u001b[0m labels_pred, test_labels \u001b[39m=\u001b[39m predict(x_test, y_test, model)\n",
      "Cell \u001b[0;32mIn[8], line 15\u001b[0m, in \u001b[0;36mtrain\u001b[0;34m(train_data, train_labels)\u001b[0m\n\u001b[1;32m     12\u001b[0m clf_imag \u001b[39m=\u001b[39m svm\u001b[39m.\u001b[39mSVC(kernel\u001b[39m=\u001b[39m\u001b[39m'\u001b[39m\u001b[39mlinear\u001b[39m\u001b[39m'\u001b[39m) \n\u001b[1;32m     14\u001b[0m \u001b[39m#Train the model using the training sets\u001b[39;00m\n\u001b[0;32m---> 15\u001b[0m clf_real\u001b[39m.\u001b[39;49mfit(train_data, train_labels_real)\n\u001b[1;32m     16\u001b[0m clf_imag\u001b[39m.\u001b[39mfit(train_data, train_labels_imag)\n\u001b[1;32m     18\u001b[0m \u001b[39mreturn\u001b[39;00m (clf_real, clf_imag)\n",
      "File \u001b[0;32m/usr/lib/python3.11/site-packages/sklearn/base.py:1151\u001b[0m, in \u001b[0;36m_fit_context.<locals>.decorator.<locals>.wrapper\u001b[0;34m(estimator, *args, **kwargs)\u001b[0m\n\u001b[1;32m   1144\u001b[0m     estimator\u001b[39m.\u001b[39m_validate_params()\n\u001b[1;32m   1146\u001b[0m \u001b[39mwith\u001b[39;00m config_context(\n\u001b[1;32m   1147\u001b[0m     skip_parameter_validation\u001b[39m=\u001b[39m(\n\u001b[1;32m   1148\u001b[0m         prefer_skip_nested_validation \u001b[39mor\u001b[39;00m global_skip_validation\n\u001b[1;32m   1149\u001b[0m     )\n\u001b[1;32m   1150\u001b[0m ):\n\u001b[0;32m-> 1151\u001b[0m     \u001b[39mreturn\u001b[39;00m fit_method(estimator, \u001b[39m*\u001b[39;49margs, \u001b[39m*\u001b[39;49m\u001b[39m*\u001b[39;49mkwargs)\n",
      "File \u001b[0;32m/usr/lib/python3.11/site-packages/sklearn/svm/_base.py:190\u001b[0m, in \u001b[0;36mBaseLibSVM.fit\u001b[0;34m(self, X, y, sample_weight)\u001b[0m\n\u001b[1;32m    188\u001b[0m     check_consistent_length(X, y)\n\u001b[1;32m    189\u001b[0m \u001b[39melse\u001b[39;00m:\n\u001b[0;32m--> 190\u001b[0m     X, y \u001b[39m=\u001b[39m \u001b[39mself\u001b[39;49m\u001b[39m.\u001b[39;49m_validate_data(\n\u001b[1;32m    191\u001b[0m         X,\n\u001b[1;32m    192\u001b[0m         y,\n\u001b[1;32m    193\u001b[0m         dtype\u001b[39m=\u001b[39;49mnp\u001b[39m.\u001b[39;49mfloat64,\n\u001b[1;32m    194\u001b[0m         order\u001b[39m=\u001b[39;49m\u001b[39m\"\u001b[39;49m\u001b[39mC\u001b[39;49m\u001b[39m\"\u001b[39;49m,\n\u001b[1;32m    195\u001b[0m         accept_sparse\u001b[39m=\u001b[39;49m\u001b[39m\"\u001b[39;49m\u001b[39mcsr\u001b[39;49m\u001b[39m\"\u001b[39;49m,\n\u001b[1;32m    196\u001b[0m         accept_large_sparse\u001b[39m=\u001b[39;49m\u001b[39mFalse\u001b[39;49;00m,\n\u001b[1;32m    197\u001b[0m     )\n\u001b[1;32m    199\u001b[0m y \u001b[39m=\u001b[39m \u001b[39mself\u001b[39m\u001b[39m.\u001b[39m_validate_targets(y)\n\u001b[1;32m    201\u001b[0m sample_weight \u001b[39m=\u001b[39m np\u001b[39m.\u001b[39masarray(\n\u001b[1;32m    202\u001b[0m     [] \u001b[39mif\u001b[39;00m sample_weight \u001b[39mis\u001b[39;00m \u001b[39mNone\u001b[39;00m \u001b[39melse\u001b[39;00m sample_weight, dtype\u001b[39m=\u001b[39mnp\u001b[39m.\u001b[39mfloat64\n\u001b[1;32m    203\u001b[0m )\n",
      "File \u001b[0;32m/usr/lib/python3.11/site-packages/sklearn/base.py:621\u001b[0m, in \u001b[0;36mBaseEstimator._validate_data\u001b[0;34m(self, X, y, reset, validate_separately, cast_to_ndarray, **check_params)\u001b[0m\n\u001b[1;32m    619\u001b[0m         y \u001b[39m=\u001b[39m check_array(y, input_name\u001b[39m=\u001b[39m\u001b[39m\"\u001b[39m\u001b[39my\u001b[39m\u001b[39m\"\u001b[39m, \u001b[39m*\u001b[39m\u001b[39m*\u001b[39mcheck_y_params)\n\u001b[1;32m    620\u001b[0m     \u001b[39melse\u001b[39;00m:\n\u001b[0;32m--> 621\u001b[0m         X, y \u001b[39m=\u001b[39m check_X_y(X, y, \u001b[39m*\u001b[39;49m\u001b[39m*\u001b[39;49mcheck_params)\n\u001b[1;32m    622\u001b[0m     out \u001b[39m=\u001b[39m X, y\n\u001b[1;32m    624\u001b[0m \u001b[39mif\u001b[39;00m \u001b[39mnot\u001b[39;00m no_val_X \u001b[39mand\u001b[39;00m check_params\u001b[39m.\u001b[39mget(\u001b[39m\"\u001b[39m\u001b[39mensure_2d\u001b[39m\u001b[39m\"\u001b[39m, \u001b[39mTrue\u001b[39;00m):\n",
      "File \u001b[0;32m/usr/lib/python3.11/site-packages/sklearn/utils/validation.py:1165\u001b[0m, in \u001b[0;36mcheck_X_y\u001b[0;34m(X, y, accept_sparse, accept_large_sparse, dtype, order, copy, force_all_finite, ensure_2d, allow_nd, multi_output, ensure_min_samples, ensure_min_features, y_numeric, estimator)\u001b[0m\n\u001b[1;32m   1147\u001b[0m X \u001b[39m=\u001b[39m check_array(\n\u001b[1;32m   1148\u001b[0m     X,\n\u001b[1;32m   1149\u001b[0m     accept_sparse\u001b[39m=\u001b[39maccept_sparse,\n\u001b[0;32m   (...)\u001b[0m\n\u001b[1;32m   1160\u001b[0m     input_name\u001b[39m=\u001b[39m\u001b[39m\"\u001b[39m\u001b[39mX\u001b[39m\u001b[39m\"\u001b[39m,\n\u001b[1;32m   1161\u001b[0m )\n\u001b[1;32m   1163\u001b[0m y \u001b[39m=\u001b[39m _check_y(y, multi_output\u001b[39m=\u001b[39mmulti_output, y_numeric\u001b[39m=\u001b[39my_numeric, estimator\u001b[39m=\u001b[39mestimator)\n\u001b[0;32m-> 1165\u001b[0m check_consistent_length(X, y)\n\u001b[1;32m   1167\u001b[0m \u001b[39mreturn\u001b[39;00m X, y\n",
      "File \u001b[0;32m/usr/lib/python3.11/site-packages/sklearn/utils/validation.py:409\u001b[0m, in \u001b[0;36mcheck_consistent_length\u001b[0;34m(*arrays)\u001b[0m\n\u001b[1;32m    407\u001b[0m uniques \u001b[39m=\u001b[39m np\u001b[39m.\u001b[39munique(lengths)\n\u001b[1;32m    408\u001b[0m \u001b[39mif\u001b[39;00m \u001b[39mlen\u001b[39m(uniques) \u001b[39m>\u001b[39m \u001b[39m1\u001b[39m:\n\u001b[0;32m--> 409\u001b[0m     \u001b[39mraise\u001b[39;00m \u001b[39mValueError\u001b[39;00m(\n\u001b[1;32m    410\u001b[0m         \u001b[39m\"\u001b[39m\u001b[39mFound input variables with inconsistent numbers of samples: \u001b[39m\u001b[39m%r\u001b[39;00m\u001b[39m\"\u001b[39m\n\u001b[1;32m    411\u001b[0m         \u001b[39m%\u001b[39m [\u001b[39mint\u001b[39m(l) \u001b[39mfor\u001b[39;00m l \u001b[39min\u001b[39;00m lengths]\n\u001b[1;32m    412\u001b[0m     )\n",
      "\u001b[0;31mValueError\u001b[0m: Found input variables with inconsistent numbers of samples: [960000, 160000]"
     ]
    }
   ],
   "source": [
    "model = train(x_train, y_train)\n",
    "labels_pred, test_labels = predict(x_test, y_test, model)"
   ]
  }
 ],
 "metadata": {
  "kernelspec": {
   "display_name": "Python 3",
   "language": "python",
   "name": "python3"
  },
  "language_info": {
   "codemirror_mode": {
    "name": "ipython",
    "version": 3
   },
   "file_extension": ".py",
   "mimetype": "text/x-python",
   "name": "python",
   "nbconvert_exporter": "python",
   "pygments_lexer": "ipython3",
   "version": "3.10.11"
  },
  "orig_nbformat": 4
 },
 "nbformat": 4,
 "nbformat_minor": 2
}
