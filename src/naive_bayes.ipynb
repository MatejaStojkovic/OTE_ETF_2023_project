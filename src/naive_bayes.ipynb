{
 "cells": [
  {
   "cell_type": "code",
   "execution_count": 1,
   "metadata": {},
   "outputs": [],
   "source": [
    "import scipy.io\n",
    "import numpy as np\n",
    "import matplotlib.pyplot as plt"
   ]
  },
  {
   "cell_type": "code",
   "execution_count": 2,
   "metadata": {},
   "outputs": [],
   "source": [
    "file_path = \"../data/DataForML.mat\"\n",
    "mat = scipy.io.loadmat(file_path)"
   ]
  },
  {
   "cell_type": "code",
   "execution_count": 3,
   "metadata": {},
   "outputs": [
    {
     "name": "stdout",
     "output_type": "stream",
     "text": [
      "__header__\n",
      "__version__\n",
      "__globals__\n",
      "Labele_Kompleksni_simboli\n",
      "Labele_Redni_brojevi_simbola\n",
      "Simboli_na_prijemu_fazni_offset_uzorak\n",
      "Simboli_na_prijemu_multipath_uzorak\n",
      "Simboli_na_prijemu_uzorak\n",
      "(65538, 1)\n",
      "(65538, 1)\n",
      "(8, 65538)\n",
      "(8, 65538)\n",
      "(8, 65538)\n"
     ]
    }
   ],
   "source": [
    "for key in mat.keys():\n",
    "    print(key)\n",
    "    # print(type(mat[key]))\n",
    "    # if isinstance(mat[key], np.ndarray):\n",
    "    #     print(mat[key].shape)\n",
    "    # print(mat[key])\n",
    "Labele_Kompleksni_simboli = mat[\"Labele_Kompleksni_simboli\"]\n",
    "Labele_Redni_brojevi_simbola = mat[\"Labele_Redni_brojevi_simbola\"]\n",
    "Simboli_na_prijemu_fazni_offset_uzorak = mat[\"Simboli_na_prijemu_fazni_offset_uzorak\"]\n",
    "Simboli_na_prijemu_multipath_uzorak = mat[\"Simboli_na_prijemu_multipath_uzorak\"]\n",
    "Simboli_na_prijemu_uzorak = mat[\"Simboli_na_prijemu_uzorak\"]"
   ]
  },
  {
   "cell_type": "code",
   "execution_count": 46,
   "metadata": {},
   "outputs": [],
   "source": [
    "from scipy.stats import norm\n",
    "\n",
    "train_x = Simboli_na_prijemu_fazni_offset_uzorak[:, :20000].flatten()\n",
    "train_y = Labele_Redni_brojevi_simbola[:20000]\n",
    "# stack train_y 8 times to match train_x\n",
    "train_y = np.hstack([train_y for _ in range(8)]).T.flatten()\n",
    "train_x_phase_all = train_x.real\n",
    "train_x_quad_all = train_x.imag\n",
    "\n",
    "symbols = np.unique(train_y)\n",
    "\n",
    "symbols_phase_avg = np.zeros(len(symbols))\n",
    "symbols_phase_var = np.zeros(len(symbols))\n",
    "symbols_quad_avg = np.zeros(len(symbols))\n",
    "symbols_quad_var = np.zeros(len(symbols))\n",
    "\n",
    "symbols_prob = np.zeros(len(symbols))\n",
    "\n",
    "for symbol in symbols:\n",
    "    train_x_phase = train_x_phase_all[train_y == symbol]\n",
    "    train_x_quad = train_x_quad_all[train_y == symbol]\n",
    "\n",
    "\n",
    "    train_x_phase_avg = np.mean(train_x_phase)\n",
    "    train_x_quad_avg = np.mean(train_x_quad)\n",
    "\n",
    "    train_x_phase_var = np.mean((train_x_phase - train_x_phase_avg)**2)\n",
    "    train_x_quad_var = np.mean((train_x_quad - train_x_quad_avg)**2)\n",
    "\n",
    "    # hist, bin_edges = np.histogram(train_x_phase, bins=100,density=True)\n",
    "    # hist/len(train_x_phase)\n",
    "\n",
    "    # plt.subplot(1,2,1)\n",
    "    # plt.title(f'Phase for symbol {symbol}')\n",
    "    # plt.plot(bin_edges[:-1], hist, label='phase')\n",
    "    # plt.plot(bin_edges[:-1], norm.pdf(bin_edges[:-1], train_x_phase_avg, train_x_phase_var**0.5), label='phase pdf')\n",
    "    # plt.legend()\n",
    "    \n",
    "    # plt.subplot(1,2,2)\n",
    "    # plt.title(f'Quadrature for symbol {symbol}')\n",
    "    # hist, bin_edges = np.histogram(train_x_quad, bins=100,density=True)\n",
    "    # hist/len(train_x_quad)\n",
    "    # plt.plot(bin_edges[:-1], hist, label='quadrature')\n",
    "    # plt.plot(bin_edges[:-1], norm.pdf(bin_edges[:-1], train_x_quad_avg, train_x_quad_var**0.5), label='quadrature pdf')\n",
    "    # plt.legend()\n",
    "    # plt.show()\n",
    "\n",
    "    symbol -= 1\n",
    "    symbols_phase_avg[symbol] = train_x_phase_avg\n",
    "    symbols_phase_var[symbol] = train_x_phase_var\n",
    "    symbols_quad_avg[symbol] = train_x_quad_avg\n",
    "    symbols_quad_var[symbol] = train_x_quad_var\n",
    "    symbols_prob[symbol] = len(train_x_phase) / len(train_x)\n"
   ]
  },
  {
   "cell_type": "code",
   "execution_count": 54,
   "metadata": {},
   "outputs": [
    {
     "name": "stdout",
     "output_type": "stream",
     "text": [
      "[0.25025 0.2509  0.24615 0.2527 ]\n"
     ]
    },
    {
     "name": "stderr",
     "output_type": "stream",
     "text": [
      "/tmp/ipykernel_7645/3010671342.py:22: RuntimeWarning: divide by zero encountered in log\n",
      "  pPhaseSymbol[..., symbol] = np.log(norm.pdf(test_x.real, loc=symbols_phase_avg[symbol], scale=symbols_phase_var[symbol]))\n",
      "/tmp/ipykernel_7645/3010671342.py:23: RuntimeWarning: divide by zero encountered in log\n",
      "  pQuadSymbol[..., symbol] = np.log(norm.pdf(test_x.imag, loc=symbols_quad_avg[symbol], scale=symbols_quad_var[symbol]))\n"
     ]
    },
    {
     "name": "stdout",
     "output_type": "stream",
     "text": [
      "[[48558   706   701    59]\n",
      " [  712 47551    46   731]\n",
      " [  727    53 49245   743]\n",
      " [   57   723   669 48719]]\n"
     ]
    },
    {
     "data": {
      "image/png": "[encoded data removed]",
      "text/plain": [
       "<Figure size 640x480 with 2 Axes>"
      ]
     },
     "metadata": {},
     "output_type": "display_data"
    }
   ],
   "source": [
    "from sklearn.metrics import confusion_matrix\n",
    "from sklearn.metrics import ConfusionMatrixDisplay\n",
    "validation_x = Simboli_na_prijemu_fazni_offset_uzorak[20000:25000]\n",
    "validation_y = Labele_Redni_brojevi_simbola[20000:25000]\n",
    "\n",
    "test_x = Simboli_na_prijemu_fazni_offset_uzorak[:,25000:50000].flatten()\n",
    "test_y = Labele_Redni_brojevi_simbola[25000:50000]\n",
    "\n",
    "test_y = np.hstack([test_y for _ in range(8)]).T.flatten()\n",
    "test_x_phase_all = train_x.real\n",
    "test_x_quad_all = train_x.imag\n",
    "\n",
    "\n",
    "print(symbols_prob)\n",
    "\n",
    "\n",
    "pPhaseSymbol = np.zeros(test_x.shape + (len(symbols),))\n",
    "pQuadSymbol = np.zeros(test_x.shape + (len(symbols),))\n",
    "\n",
    "for symbol in symbols:\n",
    "    symbol -= 1\n",
    "    pPhaseSymbol[..., symbol] = np.log(norm.pdf(test_x.real, loc=symbols_phase_avg[symbol], scale=symbols_phase_var[symbol]))\n",
    "    pQuadSymbol[..., symbol] = np.log(norm.pdf(test_x.imag, loc=symbols_quad_avg[symbol], scale=symbols_quad_var[symbol]))\n",
    "\n",
    "pSymbol = np.zeros(test_x.shape + (len(symbols),))\n",
    "for symbol in symbols:\n",
    "    symbol -= 1\n",
    "    pSymbol[..., symbol] = np.log(symbols_prob[symbol]) + pQuadSymbol[..., symbol] + pPhaseSymbol[..., symbol] + 1e-10\n",
    "\n",
    "predicted_y = np.argmax(pSymbol, axis=-1) + 1\n",
    "matrix_confusion = confusion_matrix(test_y.flatten(), predicted_y.flatten())\n",
    "print(matrix_confusion)\n",
    "ConfusionMatrixDisplay.from_predictions(test_y, predicted_y, normalize='pred')\n",
    "plt.show()"
   ]
  },
  {
   "cell_type": "code",
   "execution_count": null,
   "metadata": {},
   "outputs": [],
   "source": []
  }
 ],
 "metadata": {
  "kernelspec": {
   "display_name": "Python 3",
   "language": "python",
   "name": "python3"
  },
  "language_info": {
   "codemirror_mode": {
    "name": "ipython",
    "version": 3
   },
   "file_extension": ".py",
   "mimetype": "text/x-python",
   "name": "python",
   "nbconvert_exporter": "python",
   "pygments_lexer": "ipython3",
   "version": "3.11.3"
  },
  "orig_nbformat": 4
 },
 "nbformat": 4,
 "nbformat_minor": 2
}
