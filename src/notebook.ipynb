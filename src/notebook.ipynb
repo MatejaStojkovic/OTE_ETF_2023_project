{
 "cells": [
  {
   "cell_type": "code",
   "execution_count": 13,
   "metadata": {},
   "outputs": [],
   "source": [
    "import scipy.io\n",
    "import numpy as np\n",
    "import matplotlib.pyplot as plt"
   ]
  },
  {
   "cell_type": "code",
   "execution_count": 3,
   "metadata": {},
   "outputs": [],
   "source": [
    "file_path = \"../data/DataForML.mat\"\n",
    "mat = scipy.io.loadmat(file_path)"
   ]
  },
  {
   "cell_type": "code",
   "execution_count": 18,
   "metadata": {},
   "outputs": [
    {
     "name": "stdout",
     "output_type": "stream",
     "text": [
      "__header__\n",
      "__version__\n",
      "__globals__\n",
      "Labele_Kompleksni_simboli\n",
      "Labele_Redni_brojevi_simbola\n",
      "Simboli_na_prijemu_fazni_offset_uzorak\n",
      "Simboli_na_prijemu_multipath_uzorak\n",
      "Simboli_na_prijemu_uzorak\n",
      "(65538, 1)\n",
      "[[-0.70710678-0.70710678j]\n",
      " [-0.70710678+0.70710678j]\n",
      " [ 0.70710678-0.70710678j]\n",
      " ...\n",
      " [ 0.70710678+0.70710678j]\n",
      " [ 0.70710678-0.70710678j]\n",
      " [ 0.70710678+0.70710678j]]\n",
      "(65538, 1)\n",
      "(8, 65538)\n",
      "(8, 65538)\n",
      "(8, 65538)\n"
     ]
    }
   ],
   "source": [
    "for key in mat.keys():\n",
    "    print(key)\n",
    "    # print(type(mat[key]))\n",
    "    # if isinstance(mat[key], np.ndarray):\n",
    "    #     print(mat[key].shape)\n",
    "    # print(mat[key])\n",
    "Labele_Kompleksni_simboli = mat[\"Labele_Kompleksni_simboli\"]\n",
    "Labele_Redni_brojevi_simbola = mat[\"Labele_Redni_brojevi_simbola\"]\n",
    "Simboli_na_prijemu_fazni_offset_uzorak = mat[\"Simboli_na_prijemu_fazni_offset_uzorak\"]\n",
    "Simboli_na_prijemu_multipath_uzorak = mat[\"Simboli_na_prijemu_multipath_uzorak\"]\n",
    "Simboli_na_prijemu_uzorak = mat[\"Simboli_na_prijemu_uzorak\"]\n",
    "\n",
    "print(Labele_Kompleksni_simboli.shape)\n",
    "print(Labele_Kompleksni_simboli)\n",
    "print(Labele_Redni_brojevi_simbola.shape)\n",
    "print(Simboli_na_prijemu_fazni_offset_uzorak.shape)\n",
    "print(Simboli_na_prijemu_multipath_uzorak.shape)\n",
    "print(Simboli_na_prijemu_uzorak.shape)"
   ]
  },
  {
   "cell_type": "code",
   "execution_count": null,
   "metadata": {},
   "outputs": [],
   "source": [
    "print(Labele_Kompleksni_simboli.shape)\n"
   ]
  }
 ],
 "metadata": {
  "kernelspec": {
   "display_name": "Python 3",
   "language": "python",
   "name": "python3"
  },
  "language_info": {
   "codemirror_mode": {
    "name": "ipython",
    "version": 3
   },
   "file_extension": ".py",
   "mimetype": "text/x-python",
   "name": "python",
   "nbconvert_exporter": "python",
   "pygments_lexer": "ipython3",
   "version": "3.11.3"
  },
  "orig_nbformat": 4
 },
 "nbformat": 4,
 "nbformat_minor": 2
}
